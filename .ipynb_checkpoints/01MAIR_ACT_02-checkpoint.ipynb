{
 "cells": [
  {
   "cell_type": "markdown",
   "metadata": {},
   "source": [
    "<img src=\"../img/viu_logo.png\" width=\"200\">\n",
    "\n",
    "## 01MAIR - Actividad 2\n",
    "\n",
    "## NumPy y Pandas\n",
    "\n",
    "### Fecha Entrega\n",
    "- Convocatoria 1 - 22/11/2020\n",
    "- Convocatoria 2 - 04/02/2021\n",
    "\n",
    "### Objetivos:\n",
    "- Aplicar diferentes técnicas de tratamiento de estructuras numéricas con Numpy y datos estructurados con Pandas.\n",
    "\n",
    "### Instrucciones:\n",
    "- Crear un notebook de Python3 que servirá como entrega de la actividad.\n",
    "- Separar bien los apartados propuestos con celdas Markdown.\n",
    "- Mantener una estructura limpia, comentando código y secuenciando los apartados con el código correspondiente que resuelva la actividad.\n",
    "- Como criterio de evaluación se tendrá en cuenta el resultado, la consecución del mismo, estilo, comentarios y adecuación. Siempre será tenido en cuenta cualquier detalle técnico avanzado o no visto en clase relacionado con el tema (explicar el porqué y usabilidad).\n",
    "- No está permitido compartir los resultados ni el código en ninguno de los foros.\n",
    "- Revisar los temas 3 y 4, así como las sesiones sobre Numpy y Pandas para aplicar dichos contenidos.\n",
    "\n",
    "### Entrega:\n",
    "- Un solo documento en formato notebook: .ipynb\n",
    "\n",
    "### Actividades\n",
    "\n",
    "## NumPy\n",
    "\n",
    "### A1 - 10%\n",
    "- Crear un array con 25 elementos de una dimensión de números ordenados y redimensionarlo para que haya una matriz cuadrada\n",
    "- Realiza un print mostrando la segunda columna\n",
    "\n",
    "### A2 - 10%\n",
    "- Intercambia las filas por las columnas y las columnas por las filas.\n",
    "- Modifica los valores que son pares por 1 y los impares por 0\n",
    "\n",
    "### A3 - 10%\n",
    "- Genera una matriz con valores aleatorios de 0 a 100 de dimensiones 16x16\n",
    "- Calcula los siguentes estadísticos en la matriz anterior, por fila (el resultado de cada uno debe ser un array de dimensiones 1x16)\n",
    " - Suma de los elementos de cada fila\n",
    " - Media de los elementos de cada fila\n",
    " - Valores mínimos de cada fila\n",
    " - Valores máximos de cada fila\n",
    " \n",
    "### A4 - 10%\n",
    "- Explica y expón, con un ejemplo propio, el broadcasting\n",
    "\n",
    "### A5 - 10%\n",
    "- Resolución de sistema de ecuaciones\n",
    " - A\n",
    "\n",
    " `-9y + 4x = 20\n",
    " -7y + 16x = 80`\n",
    "   \n",
    " - B\n",
    " `x - 2y + 3z = 7\n",
    " 2x + y + z = 4\n",
    " -3x + 2y -2z = -10`\n",
    " \n",
    "## Pandas\n",
    "\n",
    "### A6 - 10%\n",
    "- Crea un objeto de tipo Series con las siguientes condiciones\n",
    " - 10 elementos\n",
    " - Debe contener más de un tipo básico\n",
    " - Debe utilizar índices de tipo string\n",
    "- Demuestra que los índices posicionales son los mismos que los obtenidos con índices semánticos, seleccionando a través de slicing, al menos 4 elementos de la serie anterior\n",
    "\n",
    "### A7 - Tratamiento de Datos - 40%\n",
    "\n",
    "#### Descripción\n",
    "El conjunto de datos \"estaciones_bici.csv\" (fichero disponible en carpeta act/res del drive) proviene de una descarga de datos del servicio web de la empresa municipal Valenbici, dedicada al alquiler de bicicletas en Valencia.\n",
    "\n",
    "Los datos recabados de este servicio web son de mediciones cada 15 minutos de cada una de las estaciones disponibles:\n",
    "\n",
    "http://www.valenbisi.es/service/carto/json\n",
    "\n",
    "Cada estación está compuesta por un número variable de bornetas (total) donde se pueden anclar las bicicletas. Los datos obtenidos de cada estación (registros) refleja el número de bornetas libres (free) y el número de bicicletas disponibles (available).\n",
    "\n",
    "http://www.valenbisi.es/service/stationdetails/valence/[número de estación]\n",
    "\n",
    "#### Columnas para trabajar:\n",
    "- station: id de la estación\n",
    "- total: número de bornetas disponibles\n",
    "- download_date: timestamp de la descarga de datos\n",
    "- available: número de bicis disponibles\n",
    "\n",
    "#### Ejercicio\n",
    "- Carga de datos de csv (estaciones_bici.csv) en un DataFrame\n",
    "- Obtención del número de estaciones que tienen 30 bornetas disponibles\n",
    "- Número de estación con la media más alta de bicis disponibles\n",
    "- Realizar el histograma de bicis disponibles de la estación del punto anterior\n",
    "- Realizar gráfica con  la línea temporal de bicis disponibles de la estación del punto anterior. Pista, es necesario cambiar el índice a uno tipo fecha"
   ]
  },
  {
   "cell_type": "markdown",
   "metadata": {},
   "source": [
    "### A1 - 10%\n",
    "- Crear un array con 25 elementos de una dimensión de números ordenados y redimensionarlo para que haya una matriz cuadrada\n",
    "- Realiza un print mostrando la segunda columna"
   ]
  },
  {
   "cell_type": "code",
   "execution_count": 1,
   "metadata": {},
   "outputs": [
    {
     "name": "stdout",
     "output_type": "stream",
     "text": [
      "[5 6 7 8 9]\n"
     ]
    }
   ],
   "source": [
    "import numpy as np\n",
    "import numpy.ma as ma\n",
    "\n",
    "vector = np.arange(25)\n",
    "\n",
    "matriz = np.resize(vector,(5,5))\n",
    "\n",
    "print(matriz[1])"
   ]
  },
  {
   "cell_type": "markdown",
   "metadata": {},
   "source": [
    "### A2 - 10%\n",
    "- Intercambia las filas por las columnas y las columnas por las filas.\n",
    "- Modifica los valores que son pares por 1 y los impares por 0"
   ]
  },
  {
   "cell_type": "code",
   "execution_count": 2,
   "metadata": {},
   "outputs": [],
   "source": [
    "tMatriz = matriz.T"
   ]
  },
  {
   "cell_type": "code",
   "execution_count": 3,
   "metadata": {},
   "outputs": [
    {
     "name": "stdout",
     "output_type": "stream",
     "text": [
      "[[ 0 -1  0 -1  0]\n",
      " [-1  0 -1  0 -1]\n",
      " [ 0 -1  0 -1  0]\n",
      " [-1  0 -1  0 -1]\n",
      " [ 0 -1  0 -1  0]]\n"
     ]
    }
   ],
   "source": [
    "tMatriz = np.where(tMatriz %2 != 0, -1, tMatriz)\n",
    "tMatriz = np.where(tMatriz %2 == 0, 0, tMatriz)\n",
    "\n",
    "print(tMatriz)"
   ]
  },
  {
   "cell_type": "markdown",
   "metadata": {},
   "source": [
    "### A3 - 10%\n",
    "- Genera una matriz con valores aleatorios de 0 a 100 de dimensiones 16x16\n",
    "- Calcula los siguentes estadísticos en la matriz anterior, por fila (el resultado de cada uno debe ser un array de dimensiones 1x16)\n",
    " - Suma de los elementos de cada fila\n",
    " - Media de los elementos de cada fila\n",
    " - Valores mínimos de cada fila\n",
    " - Valores máximos de cada fila"
   ]
  },
  {
   "cell_type": "code",
   "execution_count": 4,
   "metadata": {},
   "outputs": [
    {
     "name": "stdout",
     "output_type": "stream",
     "text": [
      "Suma de los valores por filas:  [ 6.39430125  8.41861041  8.87272997  7.8957131   7.33900371  6.99374939\n",
      "  7.25016961  9.29533335  8.17893798  5.66388194  9.35853413  6.91865808\n",
      "  6.87204579  9.4272829  10.9240552  11.08746061]\n",
      "Media valores fila: [0.39964383 0.52616315 0.55454562 0.49348207 0.45868773 0.43710934\n",
      " 0.4531356  0.58095833 0.51118362 0.35399262 0.58490838 0.43241613\n",
      " 0.42950286 0.58920518 0.68275345 0.69296629]\n",
      "Valor maximo fila: [0.94370529 0.93121679 0.93609713 0.97657724 0.97165526 0.88492058\n",
      " 0.95224584 0.96732439 0.97751381 0.8339888  0.97048248 0.91999706\n",
      " 0.99878726 0.98767671 0.99953506 0.99354992]\n",
      "Valor minimo fila: [0.00245844 0.01462462 0.04045828 0.0661459  0.01220471 0.01287845\n",
      " 0.01974014 0.12224269 0.01058061 0.00351157 0.11335486 0.00644374\n",
      " 0.00336039 0.0375433  0.03995912 0.22667267]\n"
     ]
    }
   ],
   "source": [
    "randomMatrix = np.random.rand(16,16)\n",
    "\n",
    "suma =  randomMatrix.sum(axis=1)\n",
    "print(\"Suma de los valores por filas: \",suma)\n",
    "\n",
    "media = randomMatrix.mean(axis=1)\n",
    "print(\"Media valores fila:\", media)\n",
    "\n",
    "maximo = randomMatrix.max(axis=1)\n",
    "print(\"Valor maximo fila:\",maximo)\n",
    "\n",
    "minimo = randomMatrix.min(axis=1)\n",
    "print(\"Valor minimo fila:\",minimo)"
   ]
  },
  {
   "cell_type": "markdown",
   "metadata": {},
   "source": [
    "### A4 - 10%\n",
    "- Explica y expón, con un ejemplo propio, el broadcasting"
   ]
  },
  {
   "cell_type": "code",
   "execution_count": null,
   "metadata": {},
   "outputs": [],
   "source": []
  },
  {
   "cell_type": "markdown",
   "metadata": {},
   "source": [
    "### A5 - 10%\n",
    "- Resolución de sistema de ecuaciones\n",
    " - A\n",
    "\n",
    " `-9y + 4x = 20\n",
    " -7y + 16x = 80`\n",
    "   \n",
    " - B\n",
    " `x - 2y + 3z = 7\n",
    " 2x + y + z = 4\n",
    " -3x + 2y -2z = -10`"
   ]
  },
  {
   "cell_type": "code",
   "execution_count": 5,
   "metadata": {},
   "outputs": [
    {
     "name": "stdout",
     "output_type": "stream",
     "text": [
      "Y= -0.0   X = 5.0\n",
      "X= 2.0   Y= -1.0  Z= 1.0\n"
     ]
    }
   ],
   "source": [
    "a = np.array([[-9,4], [-7,16]])\n",
    "b = np.array([20,80])\n",
    "x = np.linalg.solve(a, b)\n",
    "\n",
    "print(\"Y=\", x[0], \"  X =\", x[1])\n",
    "\n",
    "a = np.array([[1,-2,3], [2,1,1], [-3,2,-2]])\n",
    "b = np.array([7,4,-10])\n",
    "x = np.linalg.solve(a, b)\n",
    "\n",
    "print(\"X=\", x[0], \"  Y=\", x[1], \" Z=\", x[2])"
   ]
  },
  {
   "cell_type": "markdown",
   "metadata": {},
   "source": [
    "### A6 - 10%\n",
    "- Crea un objeto de tipo Series con las siguientes condiciones\n",
    " - 10 elementos\n",
    " - Debe contener más de un tipo básico\n",
    " - Debe utilizar índices de tipo string\n",
    "- Demuestra que los índices posicionales son los mismos que los obtenidos con índices semánticos, seleccionando a través de slicing, al menos 4 elementos de la serie anterior"
   ]
  },
  {
   "cell_type": "code",
   "execution_count": 6,
   "metadata": {},
   "outputs": [
    {
     "name": "stdout",
     "output_type": "stream",
     "text": [
      "num1    1\n",
      "num2    2\n",
      "num3    3\n",
      "num4    4\n",
      "dtype: object\n",
      "1\n",
      "2\n",
      "3\n",
      "4\n"
     ]
    }
   ],
   "source": [
    "import pandas as pd\n",
    "\n",
    "data = ([1,\"2\",3,\"4\",5,\"6\",7,\"8\",9,\"10\"])\n",
    "mySerie = pd.Series(data, index=[\"num1\",\"num2\",\"num3\",\"num4\",\"num5\",\"num6\",\"num7\",\"num8\",\"num9\",\"num10\"]) \n",
    "\n",
    "print(mySerie[0:4])\n",
    "print(mySerie.loc['num1'])\n",
    "print(mySerie.loc['num2'])\n",
    "print(mySerie.loc['num3'])\n",
    "print(mySerie.loc['num4'])"
   ]
  },
  {
   "cell_type": "markdown",
   "metadata": {},
   "source": [
    "### A7 - Tratamiento de Datos - 40%\n",
    "\n",
    "#### Descripción\n",
    "El conjunto de datos \"estaciones_bici.csv\" (fichero disponible en carpeta act/res del drive) proviene de una descarga de datos del servicio web de la empresa municipal Valenbici, dedicada al alquiler de bicicletas en Valencia.\n",
    "\n",
    "Los datos recabados de este servicio web son de mediciones cada 15 minutos de cada una de las estaciones disponibles:\n",
    "\n",
    "http://www.valenbisi.es/service/carto/json\n",
    "\n",
    "Cada estación está compuesta por un número variable de bornetas (total) donde se pueden anclar las bicicletas. Los datos obtenidos de cada estación (registros) refleja el número de bornetas libres (free) y el número de bicicletas disponibles (available).\n",
    "\n",
    "http://www.valenbisi.es/service/stationdetails/valence/[número de estación]\n",
    "\n",
    "#### Columnas para trabajar:\n",
    "- station: id de la estación\n",
    "- total: número de bornetas disponibles\n",
    "- download_date: timestamp de la descarga de datos\n",
    "- available: número de bicis disponibles\n",
    "\n",
    "#### Ejercicio\n",
    "- Carga de datos de csv (estaciones_bici.csv) en un DataFrame\n",
    "- Obtención del número de estaciones que tienen 30 bornetas disponibles\n",
    "- Número de estación con la media más alta de bicis disponibles\n",
    "- Realizar el histograma de bicis disponibles de la estación del punto anterior\n",
    "- Realizar gráfica con  la línea temporal de bicis disponibles de la estación del punto anterior. Pista, es necesario cambiar el índice a uno tipo fecha"
   ]
  },
  {
   "cell_type": "code",
   "execution_count": 7,
   "metadata": {},
   "outputs": [],
   "source": [
    "ddbb = pd.read_csv(\"estaciones_bici.csv\",sep = ';')\n",
    "\n",
    "ddbbData = ddbb[['station','total','download_date','available']]"
   ]
  },
  {
   "cell_type": "code",
   "execution_count": 8,
   "metadata": {},
   "outputs": [
    {
     "name": "stdout",
     "output_type": "stream",
     "text": [
      "Hay 13 estaciones con 30 bornetas o mas disponibles\n"
     ]
    }
   ],
   "source": [
    "bornetas = set()\n",
    "nBornetas = [bornetas.add(ddbbData['station'][x]) for x in range(len(ddbbData)) if ddbbData['total'][x] > 30]\n",
    "print(\"Hay\",len(bornetas),\"estaciones con 30 bornetas o mas disponibles\")"
   ]
  },
  {
   "cell_type": "code",
   "execution_count": 9,
   "metadata": {},
   "outputs": [
    {
     "name": "stdout",
     "output_type": "stream",
     "text": [
      "La estacion con una media más alta de valores es la estacion: 50 con una media de bicicletas disponibles de: 31.26 bicicletas\n"
     ]
    }
   ],
   "source": [
    "idBornetas = set()\n",
    "[idBornetas.add(ddbbData['station'][x]) for x in range(len(ddbbData))]\n",
    "\n",
    "listaContador = np.zeros((len(idBornetas)))\n",
    "listaAvailable = np.zeros((len(idBornetas)))\n",
    "listaId = list(idBornetas)\n",
    "\n",
    "for i in range(len(ddbbData)):\n",
    "    listaAvailable[listaId.index(ddbbData['station'][i])] += ddbbData['available'][i]\n",
    "    listaContador[listaId.index(ddbbData['station'][i])] += 1\n",
    "    \n",
    "for i in range(len(listaAvailable)):\n",
    "    listaAvailable[i] = listaAvailable[i] / listaContador[i]\n",
    "\n",
    "indexMax = np.where(listaAvailable == np.amax(listaAvailable))\n",
    "\n",
    "print(\"La estacion con una media más alta de valores es la estacion:\", listaId[int(indexMax[0])],\n",
    "     \"con una media de bicicletas disponibles de:\", listaAvailable[int(indexMax[0])],\"bicicletas\")"
   ]
  },
  {
   "cell_type": "code",
   "execution_count": 10,
   "metadata": {},
   "outputs": [
    {
     "data": {
      "text/plain": [
       "<seaborn.axisgrid.FacetGrid at 0x27f645bfb48>"
      ]
     },
     "execution_count": 10,
     "metadata": {},
     "output_type": "execute_result"
    },
    {
     "data": {
      "text/plain": [
       "<Figure size 720x720 with 0 Axes>"
      ]
     },
     "metadata": {},
     "output_type": "display_data"
    },
    {
     "data": {
      "image/png": "[encoded data removed]",
      "text/plain": [
       "<Figure size 360x360 with 1 Axes>"
      ]
     },
     "metadata": {
      "needs_background": "light"
     },
     "output_type": "display_data"
    }
   ],
   "source": [
    "import matplotlib.pyplot as plt\n",
    "%matplotlib inline\n",
    "import seaborn as sns\n",
    "\n",
    "ddbbHistogram = ddbbData.loc[(ddbbData['station'] == listaId[int(indexMax[0])])]\n",
    "\n",
    "imp = pd.DataFrame({'Pruebas': np.arange(1,len(ddbbHistogram['available'])+1,1), 'Valores': ddbbHistogram['available']})\n",
    "\n",
    "\n",
    "plt.figure(figsize=(10,10))\n",
    "sns.relplot(x = 'Pruebas', y = 'Valores', data = imp)"
   ]
  },
  {
   "cell_type": "code",
   "execution_count": 13,
   "metadata": {},
   "outputs": [
    {
     "data": {
      "text/plain": [
       "<matplotlib.axes._subplots.AxesSubplot at 0x27f64d02208>"
      ]
     },
     "execution_count": 13,
     "metadata": {},
     "output_type": "execute_result"
    },
    {
     "data": {
      "image/png": "[encoded data removed]",
      "text/plain": [
       "<Figure size 720x720 with 1 Axes>"
      ]
     },
     "metadata": {
      "needs_background": "light"
     },
     "output_type": "display_data"
    }
   ],
   "source": [
    "imp = pd.DataFrame({'Pruebas': ddbbHistogram['download_date'], 'Valores': ddbbHistogram['available']})\n",
    "\n",
    "\n",
    "plt.figure(figsize=(10,10))\n",
    "sns.lineplot(x = 'Pruebas', y = 'Valores', data = imp)\n",
    "\n",
    "#No se ve en el eje x las fechas porque son campos muy grandes y hay una gran cantidad de puntos a representar"
   ]
  },
  {
   "cell_type": "code",
   "execution_count": null,
   "metadata": {},
   "outputs": [],
   "source": []
  }
 ],
 "metadata": {
  "kernelspec": {
   "display_name": "Python 3",
   "language": "python",
   "name": "python3"
  },
  "language_info": {
   "codemirror_mode": {
    "name": "ipython",
    "version": 3
   },
   "file_extension": ".py",
   "mimetype": "text/x-python",
   "name": "python",
   "nbconvert_exporter": "python",
   "pygments_lexer": "ipython3",
   "version": "3.7.6"
  }
 },
 "nbformat": 4,
 "nbformat_minor": 4
}
