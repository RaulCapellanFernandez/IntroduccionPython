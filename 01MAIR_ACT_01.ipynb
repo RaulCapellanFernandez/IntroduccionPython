{
 "cells": [
  {
   "cell_type": "markdown",
   "metadata": {},
   "source": [
    "<img src=\"../img/viu_logo.png\" width=\"200\">\n",
    "\n",
    "## 01MAIR - Actividad 1\n",
    "\n",
    "## Manejo Básico de Python\n",
    "\n",
    "### Fecha Entrega\n",
    "- Convocatoria 1 - 15/11/2020\n",
    "- Convocatoria 2 - 04/02/2021\n",
    "\n",
    "### Objetivos:\n",
    "- Manejo básico de notebooks con Jupyter.\n",
    "- Realizar operaciones típicas en el tratamiento de datos. \n",
    "\n",
    "### Instrucciones:\n",
    "- Crear un notebook de Python3 que servirá como entrega de la actividad.\n",
    "- Separar bien los apartados propuestos con celdas Markdown.\n",
    "- Mantener una estructura limpia, comentando código y secuenciando los apartados con el código correspondiente que resuelva la actividad.\n",
    "- Como criterio de evaluación se tendrá en cuenta el resultado, la consecución del mismo, estilo, comentarios y adecuación.\n",
    "- No está permitido compartir los resultados ni el código en ninguno de los foros. \n",
    "- Revisar el primer tema y las sesiones sobre introducción a Python (variables, condicionales, bucles y funciones) para aplicar dichos contenidos.\n",
    "\n",
    "### Entrega:\n",
    "- Un solo documento en formato notebook: .ipynb\n",
    "\n",
    "### Actividades:\n",
    "\n",
    "### A1- Manejo de Jupyter notebook - 20%\n",
    "- Es común que cuando estemos en un entorno de programación seamos lo más productivos posible, una de las formas es conocer bien los notebooks. Es por eso que se pide que en una celda se pongan los shortcuts o atajos de teclado de:\n",
    "- Creación de una celda\n",
    "- Ejecutar el código de una celda\n",
    "- Cambiar tipo de celda código a Markdown\n",
    "- Copiar y pegar celdas\n",
    "- Guardar notebook\n",
    "\n",
    "# Solucion A1\n",
    "- escape + a       -> añade una celda por encima\n",
    "- escape + b       -> la añade por debajo\n",
    "- shift  + e       -> ejecuta el código de la celda en la que te encuentras o ctrl + enter\n",
    "- escape + m       -> cambia el tipo a markdown\n",
    "- escape + c \"o\" v -> Copiar y pegar celdas"
   ]
  },
  {
   "cell_type": "markdown",
   "metadata": {},
   "source": [
    "### A2 - Operaciones básicas - 30%\n",
    "- Crear una variable, asignarle un valor decimal e imprimir el tipo de la variable.\n",
    "- Convertir la variable en un string e imprimirla junto con tu nombre para que aparezca en una línea.\n",
    "- Crear una lista con números que comiencen por 30 y que termine en 60 haciendo que el paso entre cada número consecutivo sea de 0.4. (No usar Numpy)\n",
    "# Solucion A2"
   ]
  },
  {
   "cell_type": "code",
   "execution_count": 1,
   "metadata": {},
   "outputs": [
    {
     "name": "stdout",
     "output_type": "stream",
     "text": [
      "<class 'float'>\n",
      "1.3 Raúl Capellán\n"
     ]
    }
   ],
   "source": [
    "a = 1.3\n",
    "print(type(a))\n",
    "\n",
    "a = str(a)\n",
    "print(a + ' Raúl Capellán')"
   ]
  },
  {
   "cell_type": "code",
   "execution_count": 2,
   "metadata": {},
   "outputs": [
    {
     "name": "stdout",
     "output_type": "stream",
     "text": [
      "['30.00', '30.40', '30.80', '31.20', '31.60', '32.00', '32.40', '32.80', '33.20', '33.60', '34.00', '34.40', '34.80', '35.20', '35.60', '36.00', '36.40', '36.80', '37.20', '37.60', '38.00', '38.40', '38.80', '39.20', '39.60', '40.00', '40.40', '40.80', '41.20', '41.60', '42.00', '42.40', '42.80', '43.20', '43.60', '44.00', '44.40', '44.80', '45.20', '45.60', '46.00', '46.40', '46.80', '47.20', '47.60', '48.00', '48.40', '48.80', '49.20', '49.60', '50.00', '50.40', '50.80', '51.20', '51.60', '52.00', '52.40', '52.80', '53.20', '53.60', '54.00', '54.40', '54.80', '55.20', '55.60', '56.00', '56.40', '56.80', '57.20', '57.60', '58.00', '58.40', '58.80', '59.20', '59.60', '60.00']\n"
     ]
    }
   ],
   "source": [
    "i= 30\n",
    "lista = []\n",
    "\n",
    "while(i < 60):\n",
    "    lista.append(i)\n",
    "    i = i + 0.4\n",
    "\n",
    "lista1 = [ '%.2f' % elem for elem in lista ]\n",
    "print(lista1)"
   ]
  },
  {
   "cell_type": "markdown",
   "metadata": {},
   "source": [
    "### A3 - Funciones - 20%\n",
    "- Crear una función que devuelva si un año es bisiesto o no. Un año es bisiesto si es divisible entre 4, excepto aquellos divisibles entre 100 pero no entre 400.\n"
   ]
  },
  {
   "cell_type": "markdown",
   "metadata": {},
   "source": [
    "# Solucion 3"
   ]
  },
  {
   "cell_type": "code",
   "execution_count": 3,
   "metadata": {},
   "outputs": [
    {
     "name": "stdout",
     "output_type": "stream",
     "text": [
      "Es bisiesto\n",
      "No es bisiesto\n"
     ]
    }
   ],
   "source": [
    "def funcion(anio):\n",
    "    if(anio%4 == 0):\n",
    "        if(anio % 100 == 0 & anio % 400 != 0):\n",
    "            print('No es bisiesto')\n",
    "        else:\n",
    "            print('Es bisiesto')\n",
    "    else:\n",
    "        print('No es bisiesto')\n",
    "        \n",
    "funcion(2004)\n",
    "funcion(1997)"
   ]
  },
  {
   "cell_type": "markdown",
   "metadata": {},
   "source": [
    "### A4 - Ficheros - 30%\n",
    "- Descarga datos mediante la siguiente url y devuelve una función con las ciudades de Florida en un tipo de colección Python\n",
    "https://raw.githubusercontent.com/grammakov/USA-cities-and-states/master/us_cities_states_counties.csv\n",
    "- Imprimir el número de ciudades que tiene el estado de Florida. (No usar Pandas)\n"
   ]
  },
  {
   "cell_type": "markdown",
   "metadata": {},
   "source": [
    "# Solucion 4"
   ]
  },
  {
   "cell_type": "code",
   "execution_count": 4,
   "metadata": {},
   "outputs": [],
   "source": [
    "import csv\n",
    "import requests\n",
    "\n",
    "setCity = set()\n",
    "\n",
    "CSV_URL = 'https://raw.githubusercontent.com/grammakov/USA-cities-and-states/master/us_cities_states_counties.csv'\n",
    "\n",
    "with requests.Session() as s:\n",
    "    download = s.get(CSV_URL)\n",
    "\n",
    "    decoded_content = download.content.decode('utf-8')\n",
    "\n",
    "    cr = csv.reader(decoded_content.splitlines(), delimiter='|')\n",
    "    \n",
    "    for lines in cr:\n",
    "        setCity.add(lines[0])"
   ]
  },
  {
   "cell_type": "code",
   "execution_count": 5,
   "metadata": {},
   "outputs": [
    {
     "name": "stdout",
     "output_type": "stream",
     "text": [
      "Hay un total de  18858  ciudades\n"
     ]
    }
   ],
   "source": [
    "print(\"Hay un total de \",len(setCity),\" ciudades\")"
   ]
  }
 ],
 "metadata": {
  "kernelspec": {
   "display_name": "Python 3",
   "language": "python",
   "name": "python3"
  },
  "language_info": {
   "codemirror_mode": {
    "name": "ipython",
    "version": 3
   },
   "file_extension": ".py",
   "mimetype": "text/x-python",
   "name": "python",
   "nbconvert_exporter": "python",
   "pygments_lexer": "ipython3",
   "version": "3.7.6"
  }
 },
 "nbformat": 4,
 "nbformat_minor": 4
}
